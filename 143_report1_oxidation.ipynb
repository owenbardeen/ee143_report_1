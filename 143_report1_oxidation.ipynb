{
 "cells": [
  {
   "cell_type": "code",
   "execution_count": 17,
   "id": "3e8c88b3",
   "metadata": {},
   "outputs": [],
   "source": [
    "# EE143 calculations: oxidation\n",
    "import numpy as np"
   ]
  },
  {
   "cell_type": "code",
   "execution_count": 18,
   "id": "fe21287c",
   "metadata": {},
   "outputs": [],
   "source": [
    "# STEP 1: FIELD OXIDE\n",
    "# Dry 5 min, Wet 85 min, Dry 5 min: <100>\n",
    "wet_ba = 9.7*10**7\n",
    "wet_b = 386\n",
    "dry_ba = 3.71*10**6\n",
    "dry_b = 772\n",
    "\n",
    "temperature = 1273 #TODO\n",
    "k = 8.617*10**-5\n",
    "kt = k*temperature\n",
    "\n",
    "wetba = wet_ba * np.exp(-2.05/kt)\n",
    "wetb = wet_b * np.exp(-.78/kt)\n",
    "dryba = dry_ba * np.exp(-2.0/kt)\n",
    "dryb = dry_b * np.exp(-1.23/kt)"
   ]
  },
  {
   "cell_type": "code",
   "execution_count": 19,
   "id": "491c0811",
   "metadata": {},
   "outputs": [],
   "source": [
    "def x_ox(ba, b, time, tau):\n",
    "    return (b/ba / 2) * (np.sqrt(1 + 4*(time + tau)/(b/(ba**2))) - 1)"
   ]
  },
  {
   "cell_type": "code",
   "execution_count": 20,
   "id": "5efb1fca",
   "metadata": {},
   "outputs": [],
   "source": [
    "def get_tau(ba, b, Xi):\n",
    "    return (Xi**2)/b + Xi/ba"
   ]
  },
  {
   "cell_type": "code",
   "execution_count": 21,
   "id": "d2d0f99f",
   "metadata": {},
   "outputs": [
    {
     "data": {
      "text/plain": [
       "0.023320640013412167"
      ]
     },
     "execution_count": 21,
     "metadata": {},
     "output_type": "execute_result"
    }
   ],
   "source": [
    "# Dry for 5 minutes\n",
    "first_dry = x_ox(dryba, dryb, 5/60, 0)\n",
    "\n",
    "# Wet for 85 minutes\n",
    "wet = x_ox(wetba, wetb, 85/60, first_dry)\n",
    "\n",
    "# Dry for 5 minutes\n",
    "step1_ox = x_ox(dryba, dryb, 5/60, wet)\n",
    "step1_ox"
   ]
  },
  {
   "cell_type": "code",
   "execution_count": 24,
   "id": "2ee8489c",
   "metadata": {},
   "outputs": [
    {
     "data": {
      "text/plain": [
       "1.1217508510400807"
      ]
     },
     "execution_count": 24,
     "metadata": {},
     "output_type": "execute_result"
    }
   ],
   "source": [
    "# STEP 3: GATE OXIDE\n",
    "temperature = 1373 #TODO\n",
    "kt = k*temperature\n",
    "time = 45/60\n",
    "dryba = dry_ba * np.exp(-2.0/kt)\n",
    "dryb = dry_b * np.exp(-1.23/kt)\n",
    "\n",
    "step3_ox = x_ox(dryba, dryb, time, 0)\n",
    "step3_ox"
   ]
  },
  {
   "cell_type": "code",
   "execution_count": 26,
   "id": "f1d27de1",
   "metadata": {},
   "outputs": [
    {
     "data": {
      "text/plain": [
       "0.18112934616723203"
      ]
     },
     "execution_count": 26,
     "metadata": {},
     "output_type": "execute_result"
    }
   ],
   "source": [
    "# STEP 7: INTERMEDIATE OXIDE\n",
    "temperature = 1323 #TODO\n",
    "kt = k*temperature\n",
    "time = 12/60 #TODO\n",
    "wetba = wet_ba * np.exp(-2.05/kt)\n",
    "wetb = wet_b * np.exp(-.78/kt)\n",
    "\n",
    "step7_ox = x_ox(wetba, wetb, time, 0)\n",
    "step7_ox"
   ]
  },
  {
   "cell_type": "code",
   "execution_count": null,
   "id": "739baf55",
   "metadata": {},
   "outputs": [],
   "source": []
  },
  {
   "cell_type": "code",
   "execution_count": null,
   "id": "703dcc48",
   "metadata": {},
   "outputs": [],
   "source": []
  },
  {
   "cell_type": "code",
   "execution_count": null,
   "id": "3c277f96",
   "metadata": {},
   "outputs": [],
   "source": []
  }
 ],
 "metadata": {
  "kernelspec": {
   "display_name": "Python 3 (ipykernel)",
   "language": "python",
   "name": "python3"
  },
  "language_info": {
   "codemirror_mode": {
    "name": "ipython",
    "version": 3
   },
   "file_extension": ".py",
   "mimetype": "text/x-python",
   "name": "python",
   "nbconvert_exporter": "python",
   "pygments_lexer": "ipython3",
   "version": "3.10.11"
  }
 },
 "nbformat": 4,
 "nbformat_minor": 5
}
